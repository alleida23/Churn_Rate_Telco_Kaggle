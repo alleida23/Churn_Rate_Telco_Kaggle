{
 "cells": [
  {
   "cell_type": "markdown",
   "id": "96458e37",
   "metadata": {},
   "source": [
    "## Predicting Churn Rate\n",
    "\n",
    "I'm going to predict the churn rate for Telco Customers using Logistic Regression first and then comparing to other models such as Decision Tree and Random Forest classifiers, along with their metric scores."
   ]
  },
  {
   "cell_type": "code",
   "execution_count": 74,
   "id": "bc505ae0",
   "metadata": {},
   "outputs": [],
   "source": [
    "import pandas as pd\n",
    "import numpy as np\n",
    "import matplotlib.pyplot as plt"
   ]
  },
  {
   "cell_type": "markdown",
   "id": "d987ad66",
   "metadata": {},
   "source": [
    "#### Importing dataset"
   ]
  },
  {
   "cell_type": "code",
   "execution_count": 75,
   "id": "0def361b",
   "metadata": {},
   "outputs": [
    {
     "data": {
      "text/html": [
       "<div>\n",
       "<style scoped>\n",
       "    .dataframe tbody tr th:only-of-type {\n",
       "        vertical-align: middle;\n",
       "    }\n",
       "\n",
       "    .dataframe tbody tr th {\n",
       "        vertical-align: top;\n",
       "    }\n",
       "\n",
       "    .dataframe thead th {\n",
       "        text-align: right;\n",
       "    }\n",
       "</style>\n",
       "<table border=\"1\" class=\"dataframe\">\n",
       "  <thead>\n",
       "    <tr style=\"text-align: right;\">\n",
       "      <th></th>\n",
       "      <th>customerID</th>\n",
       "      <th>gender</th>\n",
       "      <th>SeniorCitizen</th>\n",
       "      <th>Partner</th>\n",
       "      <th>Dependents</th>\n",
       "      <th>tenure</th>\n",
       "      <th>PhoneService</th>\n",
       "      <th>MultipleLines</th>\n",
       "      <th>InternetService</th>\n",
       "      <th>OnlineSecurity</th>\n",
       "      <th>OnlineBackup</th>\n",
       "      <th>DeviceProtection</th>\n",
       "      <th>TechSupport</th>\n",
       "      <th>StreamingTV</th>\n",
       "      <th>StreamingMovies</th>\n",
       "      <th>Contract</th>\n",
       "      <th>PaperlessBilling</th>\n",
       "      <th>PaymentMethod</th>\n",
       "      <th>MonthlyCharges</th>\n",
       "      <th>TotalCharges</th>\n",
       "      <th>Churn</th>\n",
       "    </tr>\n",
       "  </thead>\n",
       "  <tbody>\n",
       "    <tr>\n",
       "      <th>0</th>\n",
       "      <td>7590-VHVEG</td>\n",
       "      <td>Female</td>\n",
       "      <td>0</td>\n",
       "      <td>Yes</td>\n",
       "      <td>No</td>\n",
       "      <td>1</td>\n",
       "      <td>No</td>\n",
       "      <td>No phone service</td>\n",
       "      <td>DSL</td>\n",
       "      <td>No</td>\n",
       "      <td>Yes</td>\n",
       "      <td>No</td>\n",
       "      <td>No</td>\n",
       "      <td>No</td>\n",
       "      <td>No</td>\n",
       "      <td>Month-to-month</td>\n",
       "      <td>Yes</td>\n",
       "      <td>Electronic check</td>\n",
       "      <td>29.85</td>\n",
       "      <td>29.85</td>\n",
       "      <td>No</td>\n",
       "    </tr>\n",
       "    <tr>\n",
       "      <th>1</th>\n",
       "      <td>5575-GNVDE</td>\n",
       "      <td>Male</td>\n",
       "      <td>0</td>\n",
       "      <td>No</td>\n",
       "      <td>No</td>\n",
       "      <td>34</td>\n",
       "      <td>Yes</td>\n",
       "      <td>No</td>\n",
       "      <td>DSL</td>\n",
       "      <td>Yes</td>\n",
       "      <td>No</td>\n",
       "      <td>Yes</td>\n",
       "      <td>No</td>\n",
       "      <td>No</td>\n",
       "      <td>No</td>\n",
       "      <td>One year</td>\n",
       "      <td>No</td>\n",
       "      <td>Mailed check</td>\n",
       "      <td>56.95</td>\n",
       "      <td>1889.5</td>\n",
       "      <td>No</td>\n",
       "    </tr>\n",
       "    <tr>\n",
       "      <th>2</th>\n",
       "      <td>3668-QPYBK</td>\n",
       "      <td>Male</td>\n",
       "      <td>0</td>\n",
       "      <td>No</td>\n",
       "      <td>No</td>\n",
       "      <td>2</td>\n",
       "      <td>Yes</td>\n",
       "      <td>No</td>\n",
       "      <td>DSL</td>\n",
       "      <td>Yes</td>\n",
       "      <td>Yes</td>\n",
       "      <td>No</td>\n",
       "      <td>No</td>\n",
       "      <td>No</td>\n",
       "      <td>No</td>\n",
       "      <td>Month-to-month</td>\n",
       "      <td>Yes</td>\n",
       "      <td>Mailed check</td>\n",
       "      <td>53.85</td>\n",
       "      <td>108.15</td>\n",
       "      <td>Yes</td>\n",
       "    </tr>\n",
       "    <tr>\n",
       "      <th>3</th>\n",
       "      <td>7795-CFOCW</td>\n",
       "      <td>Male</td>\n",
       "      <td>0</td>\n",
       "      <td>No</td>\n",
       "      <td>No</td>\n",
       "      <td>45</td>\n",
       "      <td>No</td>\n",
       "      <td>No phone service</td>\n",
       "      <td>DSL</td>\n",
       "      <td>Yes</td>\n",
       "      <td>No</td>\n",
       "      <td>Yes</td>\n",
       "      <td>Yes</td>\n",
       "      <td>No</td>\n",
       "      <td>No</td>\n",
       "      <td>One year</td>\n",
       "      <td>No</td>\n",
       "      <td>Bank transfer (automatic)</td>\n",
       "      <td>42.30</td>\n",
       "      <td>1840.75</td>\n",
       "      <td>No</td>\n",
       "    </tr>\n",
       "    <tr>\n",
       "      <th>4</th>\n",
       "      <td>9237-HQITU</td>\n",
       "      <td>Female</td>\n",
       "      <td>0</td>\n",
       "      <td>No</td>\n",
       "      <td>No</td>\n",
       "      <td>2</td>\n",
       "      <td>Yes</td>\n",
       "      <td>No</td>\n",
       "      <td>Fiber optic</td>\n",
       "      <td>No</td>\n",
       "      <td>No</td>\n",
       "      <td>No</td>\n",
       "      <td>No</td>\n",
       "      <td>No</td>\n",
       "      <td>No</td>\n",
       "      <td>Month-to-month</td>\n",
       "      <td>Yes</td>\n",
       "      <td>Electronic check</td>\n",
       "      <td>70.70</td>\n",
       "      <td>151.65</td>\n",
       "      <td>Yes</td>\n",
       "    </tr>\n",
       "  </tbody>\n",
       "</table>\n",
       "</div>"
      ],
      "text/plain": [
       "   customerID  gender  SeniorCitizen Partner Dependents  tenure PhoneService  \\\n",
       "0  7590-VHVEG  Female              0     Yes         No       1           No   \n",
       "1  5575-GNVDE    Male              0      No         No      34          Yes   \n",
       "2  3668-QPYBK    Male              0      No         No       2          Yes   \n",
       "3  7795-CFOCW    Male              0      No         No      45           No   \n",
       "4  9237-HQITU  Female              0      No         No       2          Yes   \n",
       "\n",
       "      MultipleLines InternetService OnlineSecurity OnlineBackup  \\\n",
       "0  No phone service             DSL             No          Yes   \n",
       "1                No             DSL            Yes           No   \n",
       "2                No             DSL            Yes          Yes   \n",
       "3  No phone service             DSL            Yes           No   \n",
       "4                No     Fiber optic             No           No   \n",
       "\n",
       "  DeviceProtection TechSupport StreamingTV StreamingMovies        Contract  \\\n",
       "0               No          No          No              No  Month-to-month   \n",
       "1              Yes          No          No              No        One year   \n",
       "2               No          No          No              No  Month-to-month   \n",
       "3              Yes         Yes          No              No        One year   \n",
       "4               No          No          No              No  Month-to-month   \n",
       "\n",
       "  PaperlessBilling              PaymentMethod  MonthlyCharges TotalCharges  \\\n",
       "0              Yes           Electronic check           29.85        29.85   \n",
       "1               No               Mailed check           56.95       1889.5   \n",
       "2              Yes               Mailed check           53.85       108.15   \n",
       "3               No  Bank transfer (automatic)           42.30      1840.75   \n",
       "4              Yes           Electronic check           70.70       151.65   \n",
       "\n",
       "  Churn  \n",
       "0    No  \n",
       "1    No  \n",
       "2   Yes  \n",
       "3    No  \n",
       "4   Yes  "
      ]
     },
     "metadata": {},
     "output_type": "display_data"
    },
    {
     "data": {
      "text/plain": [
       "(7043, 21)"
      ]
     },
     "metadata": {},
     "output_type": "display_data"
    }
   ],
   "source": [
    "data = pd.read_csv('./Files/WA_Fn-UseC_-Telco-Customer-Churn.csv')\n",
    "\n",
    "# Display all columns\n",
    "pd.options.display.max_columns = None\n",
    "\n",
    "display(data.head(), data.shape)"
   ]
  },
  {
   "cell_type": "markdown",
   "id": "b08f693a",
   "metadata": {},
   "source": [
    "#### Standardize column's names"
   ]
  },
  {
   "cell_type": "code",
   "execution_count": 76,
   "id": "6f825749",
   "metadata": {},
   "outputs": [],
   "source": [
    "# Lower case\n",
    "cols = []\n",
    "for col in data.columns:\n",
    "    cols.append(col.lower())\n",
    "\n",
    "data.columns = cols"
   ]
  },
  {
   "cell_type": "code",
   "execution_count": 77,
   "id": "5ca44397",
   "metadata": {},
   "outputs": [
    {
     "data": {
      "text/plain": [
       "Index(['customer_id', 'gender', 'senior_citizen', 'partner', 'dependents',\n",
       "       'tenure', 'phone_service', 'multiple_lines', 'internet_service',\n",
       "       'online_security', 'online_backup', 'device_protection', 'tech_support',\n",
       "       'streaming_tv', 'streaming_movies', 'contract', 'paperless_billing',\n",
       "       'payment_method', 'monthly_charges', 'total_charges', 'churn'],\n",
       "      dtype='object')"
      ]
     },
     "execution_count": 77,
     "metadata": {},
     "output_type": "execute_result"
    }
   ],
   "source": [
    "# Add underscore\n",
    "column_mapping = {\n",
    "    'customerid': 'customer_id',\n",
    "    'seniorcitizen': 'senior_citizen',\n",
    "    'phoneservice': 'phone_service',\n",
    "    'multiplelines': 'multiple_lines',\n",
    "    'internetservice': 'internet_service',\n",
    "    'onlinesecurity': 'online_security',\n",
    "    'onlinebackup': 'online_backup',\n",
    "    'deviceprotection': 'device_protection',\n",
    "    'techsupport': 'tech_support',\n",
    "    'streamingtv': 'streaming_tv',\n",
    "    'streamingmovies': 'streaming_movies',\n",
    "    'paperlessbilling': 'paperless_billing',\n",
    "    'paymentmethod': 'payment_method',\n",
    "    'monthlycharges': 'monthly_charges',\n",
    "    'totalcharges': 'total_charges'\n",
    "}\n",
    "\n",
    "data = data.rename(columns=column_mapping)\n",
    "data.columns"
   ]
  },
  {
   "cell_type": "code",
   "execution_count": null,
   "id": "54cf2e32",
   "metadata": {},
   "outputs": [],
   "source": []
  },
  {
   "cell_type": "markdown",
   "id": "708b992f",
   "metadata": {},
   "source": [
    "#### Data cleaning"
   ]
  },
  {
   "cell_type": "code",
   "execution_count": 78,
   "id": "1119fe07",
   "metadata": {},
   "outputs": [
    {
     "name": "stdout",
     "output_type": "stream",
     "text": [
      "<class 'pandas.core.frame.DataFrame'>\n",
      "RangeIndex: 7043 entries, 0 to 7042\n",
      "Data columns (total 21 columns):\n",
      " #   Column             Non-Null Count  Dtype  \n",
      "---  ------             --------------  -----  \n",
      " 0   customer_id        7043 non-null   object \n",
      " 1   gender             7043 non-null   object \n",
      " 2   senior_citizen     7043 non-null   int64  \n",
      " 3   partner            7043 non-null   object \n",
      " 4   dependents         7043 non-null   object \n",
      " 5   tenure             7043 non-null   int64  \n",
      " 6   phone_service      7043 non-null   object \n",
      " 7   multiple_lines     7043 non-null   object \n",
      " 8   internet_service   7043 non-null   object \n",
      " 9   online_security    7043 non-null   object \n",
      " 10  online_backup      7043 non-null   object \n",
      " 11  device_protection  7043 non-null   object \n",
      " 12  tech_support       7043 non-null   object \n",
      " 13  streaming_tv       7043 non-null   object \n",
      " 14  streaming_movies   7043 non-null   object \n",
      " 15  contract           7043 non-null   object \n",
      " 16  paperless_billing  7043 non-null   object \n",
      " 17  payment_method     7043 non-null   object \n",
      " 18  monthly_charges    7043 non-null   float64\n",
      " 19  total_charges      7043 non-null   object \n",
      " 20  churn              7043 non-null   object \n",
      "dtypes: float64(1), int64(2), object(18)\n",
      "memory usage: 1.1+ MB\n"
     ]
    }
   ],
   "source": [
    "# Check column types and NaN values\n",
    "data.info()"
   ]
  },
  {
   "cell_type": "markdown",
   "id": "8896bf0c",
   "metadata": {},
   "source": [
    "There seems to be no presence of NaN values."
   ]
  },
  {
   "cell_type": "markdown",
   "id": "a5f33cee",
   "metadata": {},
   "source": [
    "- Convert 'SeniorCitizen' to categorical"
   ]
  },
  {
   "cell_type": "code",
   "execution_count": 79,
   "id": "e13e92e0",
   "metadata": {},
   "outputs": [
    {
     "data": {
      "text/plain": [
       "0    5901\n",
       "1    1142\n",
       "Name: senior_citizen, dtype: int64"
      ]
     },
     "execution_count": 79,
     "metadata": {},
     "output_type": "execute_result"
    }
   ],
   "source": [
    "data['senior_citizen'].value_counts(dropna=False)"
   ]
  },
  {
   "cell_type": "markdown",
   "id": "69151274",
   "metadata": {},
   "source": [
    "The values of 0 and 1 used to indicate the absence or presence of senior citizen status are considered classificatory, rather than numerical, as they represent two distinct categories rather than continuous values on a numerical scale."
   ]
  },
  {
   "cell_type": "code",
   "execution_count": 80,
   "id": "fae98791",
   "metadata": {},
   "outputs": [],
   "source": [
    "data['senior_citizen'] = data['senior_citizen'].astype('object')"
   ]
  },
  {
   "cell_type": "markdown",
   "id": "0d5643f2",
   "metadata": {},
   "source": [
    "- Convert 'TotalCharges' to numerical"
   ]
  },
  {
   "cell_type": "code",
   "execution_count": 81,
   "id": "af216466",
   "metadata": {},
   "outputs": [
    {
     "data": {
      "text/plain": [
       "          11\n",
       "20.2      11\n",
       "19.75      9\n",
       "20.05      8\n",
       "19.9       8\n",
       "          ..\n",
       "6849.4     1\n",
       "692.35     1\n",
       "130.15     1\n",
       "3211.9     1\n",
       "6844.5     1\n",
       "Name: total_charges, Length: 6531, dtype: int64"
      ]
     },
     "execution_count": 81,
     "metadata": {},
     "output_type": "execute_result"
    }
   ],
   "source": [
    "data['total_charges'].value_counts(dropna=False)"
   ]
  },
  {
   "cell_type": "code",
   "execution_count": 82,
   "id": "405f496f",
   "metadata": {},
   "outputs": [
    {
     "data": {
      "text/plain": [
       "' '"
      ]
     },
     "execution_count": 82,
     "metadata": {},
     "output_type": "execute_result"
    }
   ],
   "source": [
    "# There are some rows with an empty value\n",
    "data.loc[488,'total_charges']"
   ]
  },
  {
   "cell_type": "code",
   "execution_count": 83,
   "id": "93b62635",
   "metadata": {},
   "outputs": [
    {
     "data": {
      "text/html": [
       "<div>\n",
       "<style scoped>\n",
       "    .dataframe tbody tr th:only-of-type {\n",
       "        vertical-align: middle;\n",
       "    }\n",
       "\n",
       "    .dataframe tbody tr th {\n",
       "        vertical-align: top;\n",
       "    }\n",
       "\n",
       "    .dataframe thead th {\n",
       "        text-align: right;\n",
       "    }\n",
       "</style>\n",
       "<table border=\"1\" class=\"dataframe\">\n",
       "  <thead>\n",
       "    <tr style=\"text-align: right;\">\n",
       "      <th></th>\n",
       "      <th>customer_id</th>\n",
       "      <th>tenure</th>\n",
       "      <th>total_charges</th>\n",
       "    </tr>\n",
       "  </thead>\n",
       "  <tbody>\n",
       "    <tr>\n",
       "      <th>488</th>\n",
       "      <td>4472-LVYGI</td>\n",
       "      <td>0</td>\n",
       "      <td></td>\n",
       "    </tr>\n",
       "    <tr>\n",
       "      <th>753</th>\n",
       "      <td>3115-CZMZD</td>\n",
       "      <td>0</td>\n",
       "      <td></td>\n",
       "    </tr>\n",
       "    <tr>\n",
       "      <th>936</th>\n",
       "      <td>5709-LVOEQ</td>\n",
       "      <td>0</td>\n",
       "      <td></td>\n",
       "    </tr>\n",
       "    <tr>\n",
       "      <th>1082</th>\n",
       "      <td>4367-NUYAO</td>\n",
       "      <td>0</td>\n",
       "      <td></td>\n",
       "    </tr>\n",
       "    <tr>\n",
       "      <th>1340</th>\n",
       "      <td>1371-DWPAZ</td>\n",
       "      <td>0</td>\n",
       "      <td></td>\n",
       "    </tr>\n",
       "  </tbody>\n",
       "</table>\n",
       "</div>"
      ],
      "text/plain": [
       "     customer_id  tenure total_charges\n",
       "488   4472-LVYGI       0              \n",
       "753   3115-CZMZD       0              \n",
       "936   5709-LVOEQ       0              \n",
       "1082  4367-NUYAO       0              \n",
       "1340  1371-DWPAZ       0              "
      ]
     },
     "metadata": {},
     "output_type": "display_data"
    },
    {
     "data": {
      "text/plain": [
       "(11, 21)"
      ]
     },
     "metadata": {},
     "output_type": "display_data"
    }
   ],
   "source": [
    "# Deal with empty rows\n",
    "empty_rows = data[data['total_charges'] == ' ']\n",
    "\n",
    "display(empty_rows[['customer_id','tenure','total_charges']].head(), empty_rows.shape)"
   ]
  },
  {
   "cell_type": "code",
   "execution_count": 84,
   "id": "8aa7b489",
   "metadata": {},
   "outputs": [],
   "source": [
    "# Replace for 0 (as 'Tenure' = 0 in all them)\n",
    "data['total_charges'] = data['total_charges'].replace(' ',0)"
   ]
  },
  {
   "cell_type": "code",
   "execution_count": 85,
   "id": "ed0d234f",
   "metadata": {},
   "outputs": [
    {
     "data": {
      "text/plain": [
       "(0, 21)"
      ]
     },
     "execution_count": 85,
     "metadata": {},
     "output_type": "execute_result"
    }
   ],
   "source": [
    "# Check no empty rows remain\n",
    "empty_rows = data[data['total_charges'] == ' ']\n",
    "empty_rows.shape"
   ]
  },
  {
   "cell_type": "code",
   "execution_count": 86,
   "id": "022debb0",
   "metadata": {},
   "outputs": [],
   "source": [
    "# Convert'TotalCharges' to numerical\n",
    "data['total_charges'] = pd.to_numeric(data['total_charges'])"
   ]
  },
  {
   "cell_type": "code",
   "execution_count": null,
   "id": "082a3446",
   "metadata": {},
   "outputs": [],
   "source": []
  },
  {
   "cell_type": "markdown",
   "id": "136d45d0",
   "metadata": {},
   "source": [
    "#### Data distribution"
   ]
  },
  {
   "cell_type": "markdown",
   "id": "53d45325",
   "metadata": {},
   "source": [
    "Numerical data"
   ]
  },
  {
   "cell_type": "code",
   "execution_count": 89,
   "id": "dbbe69f5",
   "metadata": {},
   "outputs": [
    {
     "data": {
      "text/plain": [
       "Index(['tenure', 'monthly_charges', 'total_charges'], dtype='object')"
      ]
     },
     "metadata": {},
     "output_type": "display_data"
    },
    {
     "data": {
      "text/plain": [
       "(7043, 3)"
      ]
     },
     "metadata": {},
     "output_type": "display_data"
    }
   ],
   "source": [
    "# Select numerical columns\n",
    "numerical = data.select_dtypes(include=np.number)\n",
    "display(numerical.columns,numerical.shape)"
   ]
  },
  {
   "cell_type": "code",
   "execution_count": 90,
   "id": "0d110542",
   "metadata": {},
   "outputs": [
    {
     "data": {
      "text/plain": [
       "tenure             0\n",
       "monthly_charges    0\n",
       "total_charges      0\n",
       "dtype: int64"
      ]
     },
     "execution_count": 90,
     "metadata": {},
     "output_type": "execute_result"
    }
   ],
   "source": [
    "# NaN values\n",
    "numerical.isna().sum()"
   ]
  },
  {
   "cell_type": "code",
   "execution_count": 91,
   "id": "49ce71f2",
   "metadata": {},
   "outputs": [
    {
     "data": {
      "text/html": [
       "<div>\n",
       "<style scoped>\n",
       "    .dataframe tbody tr th:only-of-type {\n",
       "        vertical-align: middle;\n",
       "    }\n",
       "\n",
       "    .dataframe tbody tr th {\n",
       "        vertical-align: top;\n",
       "    }\n",
       "\n",
       "    .dataframe thead th {\n",
       "        text-align: right;\n",
       "    }\n",
       "</style>\n",
       "<table border=\"1\" class=\"dataframe\">\n",
       "  <thead>\n",
       "    <tr style=\"text-align: right;\">\n",
       "      <th></th>\n",
       "      <th>count</th>\n",
       "      <th>mean</th>\n",
       "      <th>std</th>\n",
       "      <th>min</th>\n",
       "      <th>25%</th>\n",
       "      <th>50%</th>\n",
       "      <th>75%</th>\n",
       "      <th>max</th>\n",
       "    </tr>\n",
       "  </thead>\n",
       "  <tbody>\n",
       "    <tr>\n",
       "      <th>tenure</th>\n",
       "      <td>7043.0</td>\n",
       "      <td>32.371149</td>\n",
       "      <td>24.559481</td>\n",
       "      <td>0.00</td>\n",
       "      <td>9.00</td>\n",
       "      <td>29.00</td>\n",
       "      <td>55.00</td>\n",
       "      <td>72.00</td>\n",
       "    </tr>\n",
       "    <tr>\n",
       "      <th>monthly_charges</th>\n",
       "      <td>7043.0</td>\n",
       "      <td>64.761692</td>\n",
       "      <td>30.090047</td>\n",
       "      <td>18.25</td>\n",
       "      <td>35.50</td>\n",
       "      <td>70.35</td>\n",
       "      <td>89.85</td>\n",
       "      <td>118.75</td>\n",
       "    </tr>\n",
       "    <tr>\n",
       "      <th>total_charges</th>\n",
       "      <td>7043.0</td>\n",
       "      <td>2279.734304</td>\n",
       "      <td>2266.794470</td>\n",
       "      <td>0.00</td>\n",
       "      <td>398.55</td>\n",
       "      <td>1394.55</td>\n",
       "      <td>3786.60</td>\n",
       "      <td>8684.80</td>\n",
       "    </tr>\n",
       "  </tbody>\n",
       "</table>\n",
       "</div>"
      ],
      "text/plain": [
       "                  count         mean          std    min     25%      50%  \\\n",
       "tenure           7043.0    32.371149    24.559481   0.00    9.00    29.00   \n",
       "monthly_charges  7043.0    64.761692    30.090047  18.25   35.50    70.35   \n",
       "total_charges    7043.0  2279.734304  2266.794470   0.00  398.55  1394.55   \n",
       "\n",
       "                     75%      max  \n",
       "tenure             55.00    72.00  \n",
       "monthly_charges    89.85   118.75  \n",
       "total_charges    3786.60  8684.80  "
      ]
     },
     "execution_count": 91,
     "metadata": {},
     "output_type": "execute_result"
    }
   ],
   "source": [
    "# Info\n",
    "numerical.describe().T"
   ]
  },
  {
   "cell_type": "markdown",
   "id": "22a87adc",
   "metadata": {},
   "source": [
    "    - First, the mean tenure of customers is 32 months, with a standard deviation of 24. The minimum tenure is 0 months, indicating that there are new customers in the dataset. The maximum tenure is 72 months, which suggests that some customers have been with the company for a long time.\n",
    "\n",
    "    - Second, the mean monthly charge is $64.76, with a standard deviation of $30.09. The minimum monthly charge is $18.25, which seems low, while the maximum monthly charge is $118.75, suggesting that some customers pay a premium for the services.\n",
    "\n",
    "    - Finally, the mean total charges of customers are $2,279.73, with a standard deviation of $2,266.79. The minimum total charge is $0.00, denoting that some customers may have just joined the service, while the maximum total charge is $8,684.80, indicating that some customers have paid a significant amount over time."
   ]
  },
  {
   "cell_type": "code",
   "execution_count": 92,
   "id": "c75236c5",
   "metadata": {},
   "outputs": [
    {
     "data": {
      "image/png": "[encoded data removed]",
      "text/plain": [
       "<Figure size 1000x1000 with 6 Axes>"
      ]
     },
     "metadata": {},
     "output_type": "display_data"
    }
   ],
   "source": [
    "# Plot figure of data distribution\n",
    "fig, axs = plt.subplots(3, 2, figsize=(10, 10))\n",
    "\n",
    "# Plot histogram and boxplot for MonthlyCharges\n",
    "axs[0][0].hist(data['tenure'], bins=50)\n",
    "axs[0][0].set_title('Histogram of Tenure')\n",
    "axs[0][1].boxplot(data['tenure'])\n",
    "axs[0][1].set_title('Boxplot of Tenure')\n",
    "\n",
    "# Plot histogram and boxplot for MonthlyCharges\n",
    "axs[1][0].hist(data['monthly_charges'], bins=50)\n",
    "axs[1][0].set_title('Histogram of Monthly Charges')\n",
    "axs[1][1].boxplot(data['monthly_charges'])\n",
    "axs[1][1].set_title('Boxplot of Monthly Charges')\n",
    "\n",
    "# Plot histogram and boxplot for TotalCharges\n",
    "axs[2][0].hist(data['total_charges'], bins=50)\n",
    "axs[2][0].set_title('Histogram of Total Charges')\n",
    "axs[2][1].boxplot(data['total_charges'])\n",
    "axs[2][1].set_title('Boxplot of Total Charges')\n",
    "\n",
    "plt.show()"
   ]
  },
  {
   "cell_type": "code",
   "execution_count": null,
   "id": "22270ed4",
   "metadata": {},
   "outputs": [],
   "source": []
  },
  {
   "cell_type": "markdown",
   "id": "19bc07b2",
   "metadata": {},
   "source": [
    "Categorical data"
   ]
  },
  {
   "cell_type": "code",
   "execution_count": 93,
   "id": "317b29bc",
   "metadata": {},
   "outputs": [
    {
     "data": {
      "text/plain": [
       "Index(['customer_id', 'gender', 'senior_citizen', 'partner', 'dependents',\n",
       "       'phone_service', 'multiple_lines', 'internet_service',\n",
       "       'online_security', 'online_backup', 'device_protection', 'tech_support',\n",
       "       'streaming_tv', 'streaming_movies', 'contract', 'paperless_billing',\n",
       "       'payment_method', 'churn'],\n",
       "      dtype='object')"
      ]
     },
     "metadata": {},
     "output_type": "display_data"
    },
    {
     "data": {
      "text/plain": [
       "(7043, 18)"
      ]
     },
     "metadata": {},
     "output_type": "display_data"
    }
   ],
   "source": [
    "categorical = data.select_dtypes(include='object')\n",
    "display(categorical.columns,categorical.shape)"
   ]
  },
  {
   "cell_type": "code",
   "execution_count": 94,
   "id": "4cba0b50",
   "metadata": {},
   "outputs": [
    {
     "name": "stdout",
     "output_type": "stream",
     "text": [
      "Column:  customer_id\n",
      "Unique values:  7043\n",
      "7590-VHVEG    1\n",
      "3791-LGQCY    1\n",
      "6008-NAIXK    1\n",
      "5956-YHHRX    1\n",
      "5365-LLFYV    1\n",
      "             ..\n",
      "9796-MVYXX    1\n",
      "2637-FKFSY    1\n",
      "1552-AAGRX    1\n",
      "4304-TSPVK    1\n",
      "3186-AJIEK    1\n",
      "Name: customer_id, Length: 7043, dtype: int64 \n",
      "\n",
      "Column:  gender\n",
      "Unique values:  2\n",
      "Male      3555\n",
      "Female    3488\n",
      "Name: gender, dtype: int64 \n",
      "\n",
      "Column:  senior_citizen\n",
      "Unique values:  2\n",
      "0    5901\n",
      "1    1142\n",
      "Name: senior_citizen, dtype: int64 \n",
      "\n",
      "Column:  partner\n",
      "Unique values:  2\n",
      "No     3641\n",
      "Yes    3402\n",
      "Name: partner, dtype: int64 \n",
      "\n",
      "Column:  dependents\n",
      "Unique values:  2\n",
      "No     4933\n",
      "Yes    2110\n",
      "Name: dependents, dtype: int64 \n",
      "\n",
      "Column:  phone_service\n",
      "Unique values:  2\n",
      "Yes    6361\n",
      "No      682\n",
      "Name: phone_service, dtype: int64 \n",
      "\n",
      "Column:  multiple_lines\n",
      "Unique values:  3\n",
      "No                  3390\n",
      "Yes                 2971\n",
      "No phone service     682\n",
      "Name: multiple_lines, dtype: int64 \n",
      "\n",
      "Column:  internet_service\n",
      "Unique values:  3\n",
      "Fiber optic    3096\n",
      "DSL            2421\n",
      "No             1526\n",
      "Name: internet_service, dtype: int64 \n",
      "\n",
      "Column:  online_security\n",
      "Unique values:  3\n",
      "No                     3498\n",
      "Yes                    2019\n",
      "No internet service    1526\n",
      "Name: online_security, dtype: int64 \n",
      "\n",
      "Column:  online_backup\n",
      "Unique values:  3\n",
      "No                     3088\n",
      "Yes                    2429\n",
      "No internet service    1526\n",
      "Name: online_backup, dtype: int64 \n",
      "\n",
      "Column:  device_protection\n",
      "Unique values:  3\n",
      "No                     3095\n",
      "Yes                    2422\n",
      "No internet service    1526\n",
      "Name: device_protection, dtype: int64 \n",
      "\n",
      "Column:  tech_support\n",
      "Unique values:  3\n",
      "No                     3473\n",
      "Yes                    2044\n",
      "No internet service    1526\n",
      "Name: tech_support, dtype: int64 \n",
      "\n",
      "Column:  streaming_tv\n",
      "Unique values:  3\n",
      "No                     2810\n",
      "Yes                    2707\n",
      "No internet service    1526\n",
      "Name: streaming_tv, dtype: int64 \n",
      "\n",
      "Column:  streaming_movies\n",
      "Unique values:  3\n",
      "No                     2785\n",
      "Yes                    2732\n",
      "No internet service    1526\n",
      "Name: streaming_movies, dtype: int64 \n",
      "\n",
      "Column:  contract\n",
      "Unique values:  3\n",
      "Month-to-month    3875\n",
      "Two year          1695\n",
      "One year          1473\n",
      "Name: contract, dtype: int64 \n",
      "\n",
      "Column:  paperless_billing\n",
      "Unique values:  2\n",
      "Yes    4171\n",
      "No     2872\n",
      "Name: paperless_billing, dtype: int64 \n",
      "\n",
      "Column:  payment_method\n",
      "Unique values:  4\n",
      "Electronic check             2365\n",
      "Mailed check                 1612\n",
      "Bank transfer (automatic)    1544\n",
      "Credit card (automatic)      1522\n",
      "Name: payment_method, dtype: int64 \n",
      "\n",
      "Column:  churn\n",
      "Unique values:  2\n",
      "No     5174\n",
      "Yes    1869\n",
      "Name: churn, dtype: int64 \n",
      "\n"
     ]
    }
   ],
   "source": [
    "for col in categorical.columns:\n",
    "    print(\"Column: \",col)\n",
    "    print(\"Unique values: \", categorical[col].nunique())\n",
    "    print(categorical[col].value_counts(dropna=False),\"\\n\")"
   ]
  },
  {
   "cell_type": "markdown",
   "id": "ed7ed72b",
   "metadata": {},
   "source": [
    "No NaN values are present and each categorical variable has 4 or fewer unique values.\n",
    "The exception is 'customer_id,' which will be removed in the next step."
   ]
  },
  {
   "cell_type": "markdown",
   "id": "21974324",
   "metadata": {},
   "source": []
  },
  {
   "cell_type": "markdown",
   "id": "9cfda997",
   "metadata": {},
   "source": [
    "### Preprocess data for modelling"
   ]
  },
  {
   "cell_type": "code",
   "execution_count": 95,
   "id": "a2a8c058",
   "metadata": {},
   "outputs": [],
   "source": [
    "# Drop unnecessary column\n",
    "data = data.drop('customer_id', axis = 1)"
   ]
  },
  {
   "cell_type": "markdown",
   "id": "8ab3657a",
   "metadata": {},
   "source": [
    "#### X/y Split"
   ]
  },
  {
   "cell_type": "code",
   "execution_count": 96,
   "id": "e7056a4b",
   "metadata": {},
   "outputs": [],
   "source": [
    "# Target = 'Churn'\n",
    "y = data['churn']\n",
    "X = data.drop('churn', axis = 1)"
   ]
  },
  {
   "cell_type": "markdown",
   "id": "ee9ed3ba",
   "metadata": {},
   "source": [
    "#### Train-Test Split"
   ]
  },
  {
   "cell_type": "code",
   "execution_count": 97,
   "id": "128d4b8d",
   "metadata": {},
   "outputs": [],
   "source": [
    "from sklearn.model_selection import train_test_split\n",
    "\n",
    "X_train, X_test, y_train, y_test = train_test_split(X, y, test_size=0.2, random_state=42)"
   ]
  },
  {
   "cell_type": "markdown",
   "id": "9d00e5ee",
   "metadata": {},
   "source": [
    "#### Numerical-Categorical X Split"
   ]
  },
  {
   "cell_type": "code",
   "execution_count": 98,
   "id": "db66bb5d",
   "metadata": {},
   "outputs": [],
   "source": [
    "# Numericals\n",
    "X_train_num = X_train.select_dtypes(include=np.number)\n",
    "X_test_num = X_test.select_dtypes(include=np.number)\n",
    "\n",
    "# Categoricals\n",
    "X_train_cat = X_train.select_dtypes(include='object')\n",
    "X_test_cat = X_test.select_dtypes(include='object')"
   ]
  },
  {
   "cell_type": "markdown",
   "id": "b7ab93ac",
   "metadata": {},
   "source": [
    "##### Scaling Numericals"
   ]
  },
  {
   "cell_type": "code",
   "execution_count": 99,
   "id": "835f47bd",
   "metadata": {},
   "outputs": [],
   "source": [
    "from sklearn.preprocessing import StandardScaler\n",
    "\n",
    "# Initialize the StandardScaler object\n",
    "scaler = StandardScaler()\n",
    "\n",
    "# Fit and transform the scaler on the numerical train features\n",
    "X_train_num_scaled = scaler.fit_transform(X_train_num)\n",
    "\n",
    "# Transform the scaler on the numerical test features\n",
    "X_test_num_scaled = scaler.transform(X_test_num)\n"
   ]
  },
  {
   "cell_type": "markdown",
   "id": "549ef815",
   "metadata": {},
   "source": [
    "##### Encoding Categoricals"
   ]
  },
  {
   "cell_type": "code",
   "execution_count": 100,
   "id": "9185ae3c",
   "metadata": {},
   "outputs": [],
   "source": [
    "from sklearn.preprocessing import OneHotEncoder\n",
    "\n",
    "# Create the OneHotEncoder object\n",
    "encoder = OneHotEncoder(drop='first')\n",
    "\n",
    "# Fit and transform the encoder on the training categorical columns\n",
    "train_encoded = encoder.fit_transform(X_train_cat)\n",
    "\n",
    "# Transform the encoder on the testing categorical columns\n",
    "test_encoded = encoder.transform(X_test_cat)\n",
    "\n",
    "# Get the names of the encoded features\n",
    "feature_names = encoder.get_feature_names_out(X_train_cat.columns)\n",
    "\n",
    "# Convert the encoded array back into dataframes with the feature names\n",
    "X_train_cat_encoded = pd.DataFrame(train_encoded.toarray(), columns=feature_names)\n",
    "X_test_cat_encoded = pd.DataFrame(test_encoded.toarray(), columns=feature_names)\n"
   ]
  },
  {
   "cell_type": "markdown",
   "id": "2f1ceb84",
   "metadata": {},
   "source": [
    "##### Combine scaled and encoded TRAIN data"
   ]
  },
  {
   "cell_type": "code",
   "execution_count": 101,
   "id": "fec86fbc",
   "metadata": {},
   "outputs": [],
   "source": [
    "# Combine the scaled numerical features and the categorical encoded features of the training data\n",
    "train_processed = pd.concat([pd.DataFrame(X_train_num_scaled, columns=X_train_num.columns), X_train_cat_encoded.reset_index(drop=True)], axis=1)"
   ]
  },
  {
   "cell_type": "markdown",
   "id": "48392feb",
   "metadata": {},
   "source": [
    "##### Combine scaled and encoded TEST data"
   ]
  },
  {
   "cell_type": "code",
   "execution_count": 102,
   "id": "62e9fc7d",
   "metadata": {},
   "outputs": [],
   "source": [
    "# Combine the numerical and categorical features back into a single dataframe for the test data\n",
    "test_processed = pd.concat([pd.DataFrame(X_test_num_scaled, columns=X_train_num.columns), X_test_cat_encoded], axis=1)"
   ]
  },
  {
   "cell_type": "markdown",
   "id": "9452157d",
   "metadata": {},
   "source": []
  },
  {
   "cell_type": "markdown",
   "id": "8d552259",
   "metadata": {},
   "source": [
    "### Logistic Regression Model"
   ]
  },
  {
   "cell_type": "code",
   "execution_count": 103,
   "id": "8b5a1ac6",
   "metadata": {},
   "outputs": [
    {
     "data": {
      "text/plain": [
       "array(['Yes', 'No', 'No', 'Yes', 'No', 'No', 'No', 'No', 'No', 'No'],\n",
       "      dtype=object)"
      ]
     },
     "metadata": {},
     "output_type": "display_data"
    },
    {
     "data": {
      "text/plain": [
       "185     Yes\n",
       "2715     No\n",
       "3825     No\n",
       "1807    Yes\n",
       "132      No\n",
       "1263    Yes\n",
       "3732     No\n",
       "1672     No\n",
       "811     Yes\n",
       "2526    Yes\n",
       "Name: churn, dtype: object"
      ]
     },
     "metadata": {},
     "output_type": "display_data"
    }
   ],
   "source": [
    "from sklearn.linear_model import LogisticRegression\n",
    "\n",
    "# Create a logistic regression object\n",
    "lr = LogisticRegression()\n",
    "\n",
    "# Fit the model on the training data\n",
    "lr.fit(train_processed, y_train)\n",
    "\n",
    "# Predict on the test data\n",
    "y_pred = lr.predict(test_processed)\n",
    "\n",
    "display(y_pred[:10], y_test[:10])"
   ]
  },
  {
   "cell_type": "markdown",
   "id": "c246be88",
   "metadata": {},
   "source": [
    "#### Evaluate model's performance: accuracy, precision, recall and F1"
   ]
  },
  {
   "cell_type": "code",
   "execution_count": 104,
   "id": "96443746",
   "metadata": {},
   "outputs": [
    {
     "name": "stdout",
     "output_type": "stream",
     "text": [
      "Accuracy: 0.82\n",
      "Precision: 0.69\n",
      "Recall: 0.6\n",
      "F1 score: 0.64\n"
     ]
    }
   ],
   "source": [
    "# Evaluate the model performance\n",
    "from sklearn.metrics import accuracy_score, precision_score, recall_score, f1_score\n",
    "\n",
    "# Calculate accuracy\n",
    "accuracy_lr = round(accuracy_score(y_test, y_pred), 2)\n",
    "\n",
    "# Calculate precision\n",
    "precision_lr = round(precision_score(y_test, y_pred, pos_label='Yes'), 2)\n",
    "\n",
    "# Calculate recall\n",
    "recall_lr = round(recall_score(y_test, y_pred, pos_label='Yes'), 2)\n",
    "\n",
    "# Calculate F1 score\n",
    "f1_lr = round(f1_score(y_test, y_pred, pos_label='Yes'), 2)\n",
    "\n",
    "print('Accuracy:', accuracy_lr)\n",
    "print('Precision:', precision_lr)\n",
    "print('Recall:', recall_lr)\n",
    "print('F1 score:', f1_lr)"
   ]
  },
  {
   "cell_type": "markdown",
   "id": "98561692",
   "metadata": {},
   "source": [
    "#### Confusion Matrix"
   ]
  },
  {
   "cell_type": "code",
   "execution_count": 105,
   "id": "c7332877",
   "metadata": {},
   "outputs": [
    {
     "name": "stdout",
     "output_type": "stream",
     "text": [
      "Confusion Matrix for Logistic Regression:\n",
      "\n",
      "                 Predicted No Churn  Predicted Churn\n",
      "Actual No Churn                 934              102\n",
      "Actual Churn                    150              223\n",
      "\n",
      "Confusion Matrix (Percentages):\n",
      "\n",
      "                 Predicted No Churn  Predicted Churn\n",
      "Actual No Churn           66.288148         7.239177\n",
      "Actual Churn              10.645848        15.826828\n"
     ]
    }
   ],
   "source": [
    "# Confusion Matrix\n",
    "from sklearn.metrics import confusion_matrix\n",
    "\n",
    "# Get the confusion matrix\n",
    "conf_matrix = confusion_matrix(y_test, y_pred)\n",
    "print(\"Confusion Matrix for Logistic Regression:\\n\")\n",
    "print(pd.DataFrame(conf_matrix, columns=[\"Predicted No Churn\", \"Predicted Churn\"], index=[\"Actual No Churn\", \"Actual Churn\"]))\n",
    "\n",
    "\n",
    "# Convert the confusion matrix values into percentages\n",
    "cm_perc = conf_matrix / len(y_test) * 100\n",
    "\n",
    "# Print the confusion matrix as a table\n",
    "print(\"\\nConfusion Matrix (Percentages):\\n\")\n",
    "print(pd.DataFrame(cm_perc, columns=[\"Predicted No Churn\", \"Predicted Churn\"], index=[\"Actual No Churn\", \"Actual Churn\"]))\n"
   ]
  },
  {
   "cell_type": "markdown",
   "id": "f81d3c1c",
   "metadata": {},
   "source": [
    "### Alternative Models"
   ]
  },
  {
   "cell_type": "markdown",
   "id": "b09d50d1",
   "metadata": {},
   "source": [
    "#### Decision Tree Classifier"
   ]
  },
  {
   "cell_type": "code",
   "execution_count": 106,
   "id": "ab41bbd1",
   "metadata": {},
   "outputs": [],
   "source": [
    "from sklearn.tree import DecisionTreeClassifier\n",
    "\n",
    "# Initialize Decision Tree Classifier with hyperparameters\n",
    "dt = DecisionTreeClassifier(max_depth=10, min_samples_split=10, random_state=42)\n",
    "\n",
    "# Fit the model on train data\n",
    "dt.fit(train_processed, y_train)\n",
    "\n",
    "# Decision Tree predictions on test data\n",
    "y_pred_dt_test = dt.predict(test_processed)"
   ]
  },
  {
   "cell_type": "code",
   "execution_count": 107,
   "id": "4cfde633",
   "metadata": {},
   "outputs": [
    {
     "name": "stdout",
     "output_type": "stream",
     "text": [
      "Accuracy: 0.76\n",
      "Precision: 0.56\n",
      "Recall: 0.5\n",
      "F1 score: 0.53\n"
     ]
    }
   ],
   "source": [
    "# Calculate accuracy\n",
    "accuracy_dt = round(accuracy_score(y_test, y_pred_dt_test), 2)\n",
    "\n",
    "# Calculate precision\n",
    "precision_dt = round(precision_score(y_test, y_pred_dt_test, pos_label='Yes'), 2)\n",
    "\n",
    "# Calculate recall\n",
    "recall_dt = round(recall_score(y_test, y_pred_dt_test, pos_label='Yes'), 2)\n",
    "\n",
    "# Calculate F1 score\n",
    "f1_dt = round(f1_score(y_test, y_pred_dt_test, pos_label='Yes'), 2)\n",
    "\n",
    "print('Accuracy:', accuracy_dt)\n",
    "print('Precision:', precision_dt)\n",
    "print('Recall:', recall_dt)\n",
    "print('F1 score:', f1_dt)"
   ]
  },
  {
   "cell_type": "code",
   "execution_count": 108,
   "id": "6a31d70d",
   "metadata": {},
   "outputs": [
    {
     "name": "stdout",
     "output_type": "stream",
     "text": [
      "Confusion Matrix for Decision Tree Classifier:\n",
      "\n",
      "                 Predicted No Churn  Predicted Churn\n",
      "Actual No Churn                 890              146\n",
      "Actual Churn                    187              186\n"
     ]
    }
   ],
   "source": [
    "# Generate confusion matrix for Decision Tree Classifier\n",
    "cm_dt = confusion_matrix(y_test, y_pred_dt_test)\n",
    "print(\"Confusion Matrix for Decision Tree Classifier:\\n\")\n",
    "#print(cm_dt)\n",
    "print(pd.DataFrame(cm_dt, columns=[\"Predicted No Churn\", \"Predicted Churn\"], index=[\"Actual No Churn\", \"Actual Churn\"]))"
   ]
  },
  {
   "cell_type": "markdown",
   "id": "531308e5",
   "metadata": {},
   "source": [
    "#### Random Forest Classifier"
   ]
  },
  {
   "cell_type": "code",
   "execution_count": 109,
   "id": "79bc3037",
   "metadata": {},
   "outputs": [],
   "source": [
    "from sklearn.ensemble import RandomForestClassifier\n",
    "\n",
    "# Initialize Random Forest Classifier with hyperparameters\n",
    "rf_clf = RandomForestClassifier(n_estimators=10, max_depth=10, random_state=42)\n",
    "\n",
    "# Fit the model on train data\n",
    "rf_clf.fit(train_processed, y_train)\n",
    "\n",
    "# Random Forest predictions on test data\n",
    "y_pred_rf_test = rf_clf.predict(test_processed)\n"
   ]
  },
  {
   "cell_type": "code",
   "execution_count": 110,
   "id": "43c0d792",
   "metadata": {},
   "outputs": [
    {
     "name": "stdout",
     "output_type": "stream",
     "text": [
      "Accuracy: 0.81\n",
      "Precision: 0.67\n",
      "Recall: 0.55\n",
      "F1 score: 0.6\n"
     ]
    }
   ],
   "source": [
    "# Calculate accuracy\n",
    "accuracy_rf = round(accuracy_score(y_test, y_pred_rf_test), 2)\n",
    "\n",
    "# Calculate precision\n",
    "precision_rf = round(precision_score(y_test, y_pred_rf_test, pos_label='Yes'), 2)\n",
    "\n",
    "# Calculate recall\n",
    "recall_rf = round(recall_score(y_test, y_pred_rf_test, pos_label='Yes'), 2)\n",
    "\n",
    "# Calculate F1 score\n",
    "f1_rf = round(f1_score(y_test, y_pred_rf_test, pos_label='Yes'), 2)\n",
    "\n",
    "print('Accuracy:', accuracy_rf)\n",
    "print('Precision:', precision_rf)\n",
    "print('Recall:', recall_rf)\n",
    "print('F1 score:', f1_rf)"
   ]
  },
  {
   "cell_type": "code",
   "execution_count": 111,
   "id": "0d073bd0",
   "metadata": {},
   "outputs": [
    {
     "name": "stdout",
     "output_type": "stream",
     "text": [
      "Confusion Matrix for Random Forest Classifier:\n",
      "                 Predicted No Churn  Predicted Churn\n",
      "Actual No Churn                 937               99\n",
      "Actual Churn                    169              204\n"
     ]
    }
   ],
   "source": [
    "# Generate confusion matrix for Random Forest Classifier\n",
    "cm_rf = confusion_matrix(y_test, y_pred_rf_test)\n",
    "print(\"Confusion Matrix for Random Forest Classifier:\")\n",
    "#print(cm_rf)\n",
    "print(pd.DataFrame(cm_rf, columns=[\"Predicted No Churn\", \"Predicted Churn\"], index=[\"Actual No Churn\", \"Actual Churn\"]))"
   ]
  },
  {
   "cell_type": "code",
   "execution_count": null,
   "id": "f660733b",
   "metadata": {},
   "outputs": [],
   "source": []
  },
  {
   "cell_type": "markdown",
   "id": "99c7dd28",
   "metadata": {},
   "source": [
    "#### Oversampling - SMOTE"
   ]
  },
  {
   "cell_type": "code",
   "execution_count": 112,
   "id": "63f62661",
   "metadata": {},
   "outputs": [
    {
     "data": {
      "text/plain": [
       "No     4138\n",
       "Yes    1496\n",
       "Name: churn, dtype: int64"
      ]
     },
     "execution_count": 112,
     "metadata": {},
     "output_type": "execute_result"
    }
   ],
   "source": [
    "y_train.value_counts()"
   ]
  },
  {
   "cell_type": "code",
   "execution_count": 113,
   "id": "8c84861c",
   "metadata": {},
   "outputs": [
    {
     "data": {
      "text/plain": [
       "(5634, 30)"
      ]
     },
     "metadata": {},
     "output_type": "display_data"
    },
    {
     "data": {
      "text/plain": [
       "(5634,)"
      ]
     },
     "metadata": {},
     "output_type": "display_data"
    }
   ],
   "source": [
    "# TRAIN DATA\n",
    "display(train_processed.shape, y_train.shape)"
   ]
  },
  {
   "cell_type": "code",
   "execution_count": 114,
   "id": "3bf239ab",
   "metadata": {},
   "outputs": [],
   "source": [
    "from imblearn.over_sampling import SMOTE\n",
    "\n",
    "# Instantiate SMOTE\n",
    "smote = SMOTE(random_state=42)\n",
    "\n",
    "# Fit SMOTE\n",
    "X_train_resampled, y_train_resampled = smote.fit_resample(train_processed, y_train)"
   ]
  },
  {
   "cell_type": "code",
   "execution_count": 148,
   "id": "9a7ed9fc",
   "metadata": {},
   "outputs": [
    {
     "data": {
      "text/plain": [
       "(8276, 30)"
      ]
     },
     "metadata": {},
     "output_type": "display_data"
    },
    {
     "data": {
      "text/plain": [
       "(8276,)"
      ]
     },
     "metadata": {},
     "output_type": "display_data"
    },
    {
     "data": {
      "text/plain": [
       "No     4138\n",
       "Yes    4138\n",
       "Name: churn, dtype: int64"
      ]
     },
     "metadata": {},
     "output_type": "display_data"
    }
   ],
   "source": [
    "display(X_train_resampled.shape, y_train_resampled.shape, y_train_resampled.value_counts())"
   ]
  },
  {
   "cell_type": "code",
   "execution_count": 115,
   "id": "4a2ed2b6",
   "metadata": {},
   "outputs": [],
   "source": [
    "# Logistic Regression\n",
    "lr_os = LogisticRegression()\n",
    "lr_os.fit(X_train_resampled, y_train_resampled)\n",
    "y_pred_os = lr_os.predict(test_processed)"
   ]
  },
  {
   "cell_type": "code",
   "execution_count": 116,
   "id": "e1fd4de8",
   "metadata": {},
   "outputs": [
    {
     "name": "stdout",
     "output_type": "stream",
     "text": [
      "Accuracy: 0.76\n",
      "Precision: 0.53\n",
      "Recall: 0.83\n",
      "F1 score: 0.64\n"
     ]
    }
   ],
   "source": [
    "# Calculate accuracy\n",
    "accuracy_lr_os = round(accuracy_score(y_test, y_pred_os), 2)\n",
    "\n",
    "# Calculate precision\n",
    "precision_lr_os = round(precision_score(y_test, y_pred_os, pos_label='Yes'), 2)\n",
    "\n",
    "# Calculate recall\n",
    "recall_lr_os = round(recall_score(y_test, y_pred_os, pos_label='Yes'), 2)\n",
    "\n",
    "# Calculate F1 score\n",
    "f1_lr_os = round(f1_score(y_test, y_pred_os, pos_label='Yes'), 2)\n",
    "\n",
    "print('Accuracy:', accuracy_lr_os)\n",
    "print('Precision:', precision_lr_os)\n",
    "print('Recall:', recall_lr_os)\n",
    "print('F1 score:', f1_lr_os)"
   ]
  },
  {
   "cell_type": "code",
   "execution_count": 117,
   "id": "5147fcbe",
   "metadata": {},
   "outputs": [
    {
     "name": "stdout",
     "output_type": "stream",
     "text": [
      "Confusion Matrix for Logistic Regression Oversampled:\n",
      "                 Predicted No Churn  Predicted Churn\n",
      "Actual No Churn                 755              281\n",
      "Actual Churn                     62              311\n"
     ]
    }
   ],
   "source": [
    "# Generate confusion matrix for Random Forest Classifier\n",
    "cm_lr_os = confusion_matrix(y_test, y_pred_os)\n",
    "print(\"Confusion Matrix for Logistic Regression Oversampled:\")\n",
    "#print(cm_rf)\n",
    "print(pd.DataFrame(cm_lr_os, columns=[\"Predicted No Churn\", \"Predicted Churn\"], index=[\"Actual No Churn\", \"Actual Churn\"]))"
   ]
  },
  {
   "cell_type": "code",
   "execution_count": null,
   "id": "cc79b969",
   "metadata": {},
   "outputs": [],
   "source": []
  },
  {
   "cell_type": "code",
   "execution_count": null,
   "id": "012a8c4b",
   "metadata": {},
   "outputs": [],
   "source": []
  },
  {
   "cell_type": "markdown",
   "id": "f03436f1",
   "metadata": {},
   "source": [
    "### Summary Report"
   ]
  },
  {
   "cell_type": "code",
   "execution_count": 118,
   "id": "24dd153e",
   "metadata": {},
   "outputs": [
    {
     "name": "stdout",
     "output_type": "stream",
     "text": [
      "Confusion Matrix for Logistic Regression:\n",
      "\n",
      "                 Predicted No Churn  Predicted Churn\n",
      "Actual No Churn                 934              102\n",
      "Actual Churn                    150              223\n",
      "\n",
      "\n",
      "Confusion Matrix for Logistic Regression - SMOTE :\n",
      "\n",
      "                 Predicted No Churn  Predicted Churn\n",
      "Actual No Churn                 755              281\n",
      "Actual Churn                     62              311\n",
      "\n",
      "\n",
      "Confusion Matrix for Decision Tree Classifier:\n",
      "\n",
      "                 Predicted No Churn  Predicted Churn\n",
      "Actual No Churn                 890              146\n",
      "Actual Churn                    187              186\n",
      "\n",
      "\n",
      "Confusion Matrix for Random Forest Classifier:\n",
      "                 Predicted No Churn  Predicted Churn\n",
      "Actual No Churn                 937               99\n",
      "Actual Churn                    169              204\n"
     ]
    }
   ],
   "source": [
    "print(\"Confusion Matrix for Logistic Regression:\\n\")\n",
    "print(pd.DataFrame(conf_matrix, columns=[\"Predicted No Churn\", \"Predicted Churn\"], index=[\"Actual No Churn\", \"Actual Churn\"]))\n",
    "\n",
    "print(\"\\n\\nConfusion Matrix for Logistic Regression - SMOTE :\\n\")\n",
    "print(pd.DataFrame(cm_lr_os, columns=[\"Predicted No Churn\", \"Predicted Churn\"], index=[\"Actual No Churn\", \"Actual Churn\"]))\n",
    "\n",
    "print(\"\\n\\nConfusion Matrix for Decision Tree Classifier:\\n\")\n",
    "print(pd.DataFrame(cm_dt, columns=[\"Predicted No Churn\", \"Predicted Churn\"], index=[\"Actual No Churn\", \"Actual Churn\"]))\n",
    "\n",
    "print(\"\\n\\nConfusion Matrix for Random Forest Classifier:\")\n",
    "print(pd.DataFrame(cm_rf, columns=[\"Predicted No Churn\", \"Predicted Churn\"], index=[\"Actual No Churn\", \"Actual Churn\"]))"
   ]
  },
  {
   "cell_type": "code",
   "execution_count": 119,
   "id": "1d0e8624",
   "metadata": {},
   "outputs": [
    {
     "data": {
      "text/html": [
       "<div>\n",
       "<style scoped>\n",
       "    .dataframe tbody tr th:only-of-type {\n",
       "        vertical-align: middle;\n",
       "    }\n",
       "\n",
       "    .dataframe tbody tr th {\n",
       "        vertical-align: top;\n",
       "    }\n",
       "\n",
       "    .dataframe thead th {\n",
       "        text-align: right;\n",
       "    }\n",
       "</style>\n",
       "<table border=\"1\" class=\"dataframe\">\n",
       "  <thead>\n",
       "    <tr style=\"text-align: right;\">\n",
       "      <th></th>\n",
       "      <th>Logistic Regression</th>\n",
       "      <th>Logistic Regression - SMOTE</th>\n",
       "      <th>Decision Tree</th>\n",
       "      <th>Random Forest Classifier</th>\n",
       "    </tr>\n",
       "  </thead>\n",
       "  <tbody>\n",
       "    <tr>\n",
       "      <th>Accuracy</th>\n",
       "      <td>0.82</td>\n",
       "      <td>0.76</td>\n",
       "      <td>0.76</td>\n",
       "      <td>0.81</td>\n",
       "    </tr>\n",
       "    <tr>\n",
       "      <th>Precision</th>\n",
       "      <td>0.69</td>\n",
       "      <td>0.53</td>\n",
       "      <td>0.56</td>\n",
       "      <td>0.67</td>\n",
       "    </tr>\n",
       "    <tr>\n",
       "      <th>Recall</th>\n",
       "      <td>0.60</td>\n",
       "      <td>0.83</td>\n",
       "      <td>0.50</td>\n",
       "      <td>0.55</td>\n",
       "    </tr>\n",
       "    <tr>\n",
       "      <th>F1 Score</th>\n",
       "      <td>0.64</td>\n",
       "      <td>0.64</td>\n",
       "      <td>0.53</td>\n",
       "      <td>0.60</td>\n",
       "    </tr>\n",
       "  </tbody>\n",
       "</table>\n",
       "</div>"
      ],
      "text/plain": [
       "           Logistic Regression  Logistic Regression - SMOTE  Decision Tree  \\\n",
       "Accuracy                  0.82                         0.76           0.76   \n",
       "Precision                 0.69                         0.53           0.56   \n",
       "Recall                    0.60                         0.83           0.50   \n",
       "F1 Score                  0.64                         0.64           0.53   \n",
       "\n",
       "           Random Forest Classifier  \n",
       "Accuracy                       0.81  \n",
       "Precision                      0.67  \n",
       "Recall                         0.55  \n",
       "F1 Score                       0.60  "
      ]
     },
     "execution_count": 119,
     "metadata": {},
     "output_type": "execute_result"
    }
   ],
   "source": [
    "# Create a dictionary to store the evaluation metrics for each classifier\n",
    "results = {\n",
    "    'Logistic Regression': [accuracy_lr, precision_lr, recall_lr, f1_lr],\n",
    "    'Logistic Regression - SMOTE': [accuracy_lr_os, precision_lr_os, recall_lr_os, f1_lr_os],\n",
    "    'Decision Tree': [accuracy_dt, precision_dt, recall_dt, f1_dt],\n",
    "    'Random Forest Classifier': [accuracy_rf, precision_rf, recall_rf, f1_rf]\n",
    "}\n",
    "\n",
    "# Create a DataFrame from the dictionary and transpose it to swap rows and columns\n",
    "results_df = pd.DataFrame.from_dict(results, orient='index', columns=['Accuracy', 'Precision', 'Recall', 'F1 Score']).T\n",
    "\n",
    "results_df\n"
   ]
  },
  {
   "cell_type": "markdown",
   "id": "e1117cc3",
   "metadata": {},
   "source": [
    "1. Logistic Regression has the highest accuracy score (0.82) among all the models, indicating that it is good at predicting the target variable overall. However, its precision and recall scores are moderate (0.69 and 0.60, respectively), suggesting that it may not be the best model for identifying true positive cases.\n",
    "\n",
    "\n",
    "\n",
    "2. Logistic Regression with SMOTE has a lower accuracy score (0.76) than the base model, but it has a higher recall score (0.83) which means it is better at identifying true positive cases. However, its precision score is quite low (0.53), indicating that it may have more false positive cases.\n",
    "\n",
    "\n",
    "\n",
    "3. Decision Tree has the lowest recall score (0.50), indicating that it has a high number of false negatives. However, it has a moderate precision score (0.56) which suggests that it may be good at identifying true positive cases but may not be the best model for predicting the target variable overall.\n",
    "\n",
    "\n",
    "\n",
    "4. Random Forest Classifier has a high accuracy score (0.81), similar to that of Logistic Regression, and also has a relatively high precision score (0.67). However, its recall score (0.55) is quite low, indicating that it may have a high number of false negatives. Overall, it may be a good model for predicting the target variable with high precision, but may not be the best model for identifying all true positive cases."
   ]
  },
  {
   "cell_type": "code",
   "execution_count": null,
   "id": "5bfe00e7",
   "metadata": {},
   "outputs": [],
   "source": []
  },
  {
   "cell_type": "markdown",
   "id": "73c3575d",
   "metadata": {},
   "source": [
    "    - Accuracy: checks the proportion of correctly predicted outcomes out of all cases. It is calculated as (TP + TN) / (TP + TN + FP + FN), where TN is the number of true negatives and FP is the number of false positives. Unlike precision and recall, which focus on the performance of the model in one specific class, accuracy measures the overall performance of the model across all classes.\n",
    "\n",
    "\n",
    "    - Precision: Precision measures the proportion of true positives (correctly predicted positive cases) out of all predicted positive cases. It is calculated as TP / (TP + FP), where TP is the number of true positives and FP is the number of false positives.\n",
    "\n",
    "\n",
    "    - Recall: Recall measures the proportion of true positives out of all actual positive cases. It is calculated as TP / (TP + FN), where TP is the number of true positives and FN is the number of false negatives.\n",
    "\n",
    "\n",
    "    - F1 score: The F1 score is a weighted average of precision and recall, calculated as 2 * (precision * recall) / (precision + recall)."
   ]
  },
  {
   "cell_type": "code",
   "execution_count": null,
   "id": "e99c90a1",
   "metadata": {},
   "outputs": [],
   "source": []
  },
  {
   "cell_type": "code",
   "execution_count": null,
   "id": "4a3952b0",
   "metadata": {},
   "outputs": [],
   "source": [
    "# Save clean dataset\n",
    "data.to_csv('./Files/clean_data_churn.csv')"
   ]
  },
  {
   "cell_type": "markdown",
   "id": "36895873",
   "metadata": {},
   "source": [
    "Now, to analyze the profiles of the detected and undetected customers who churned, I'm going to also save a dataframe with test rows to use it in the next kernel."
   ]
  },
  {
   "cell_type": "code",
   "execution_count": 144,
   "id": "1ba4d2ef",
   "metadata": {},
   "outputs": [
    {
     "data": {
      "text/plain": [
       "'Y test length: '"
      ]
     },
     "metadata": {},
     "output_type": "display_data"
    },
    {
     "data": {
      "text/plain": [
       "(1409,)"
      ]
     },
     "metadata": {},
     "output_type": "display_data"
    },
    {
     "data": {
      "text/plain": [
       "'Y predicted logreg-smote length: '"
      ]
     },
     "metadata": {},
     "output_type": "display_data"
    },
    {
     "data": {
      "text/plain": [
       "(1409,)"
      ]
     },
     "metadata": {},
     "output_type": "display_data"
    }
   ],
   "source": [
    "# Check same length\n",
    "display('Y test length: ',y_test.shape, 'Y predicted logreg-smote length: ', y_pred_os.shape)"
   ]
  },
  {
   "cell_type": "code",
   "execution_count": 145,
   "id": "0ea8231f",
   "metadata": {},
   "outputs": [
    {
     "data": {
      "text/html": [
       "<div>\n",
       "<style scoped>\n",
       "    .dataframe tbody tr th:only-of-type {\n",
       "        vertical-align: middle;\n",
       "    }\n",
       "\n",
       "    .dataframe tbody tr th {\n",
       "        vertical-align: top;\n",
       "    }\n",
       "\n",
       "    .dataframe thead th {\n",
       "        text-align: right;\n",
       "    }\n",
       "</style>\n",
       "<table border=\"1\" class=\"dataframe\">\n",
       "  <thead>\n",
       "    <tr style=\"text-align: right;\">\n",
       "      <th></th>\n",
       "      <th>gender</th>\n",
       "      <th>senior_citizen</th>\n",
       "      <th>partner</th>\n",
       "      <th>dependents</th>\n",
       "      <th>tenure</th>\n",
       "      <th>phone_service</th>\n",
       "      <th>multiple_lines</th>\n",
       "      <th>internet_service</th>\n",
       "      <th>online_security</th>\n",
       "      <th>online_backup</th>\n",
       "      <th>device_protection</th>\n",
       "      <th>tech_support</th>\n",
       "      <th>streaming_tv</th>\n",
       "      <th>streaming_movies</th>\n",
       "      <th>contract</th>\n",
       "      <th>paperless_billing</th>\n",
       "      <th>payment_method</th>\n",
       "      <th>monthly_charges</th>\n",
       "      <th>total_charges</th>\n",
       "      <th>churn</th>\n",
       "      <th>churn_predictions</th>\n",
       "    </tr>\n",
       "  </thead>\n",
       "  <tbody>\n",
       "    <tr>\n",
       "      <th>185</th>\n",
       "      <td>Female</td>\n",
       "      <td>0</td>\n",
       "      <td>Yes</td>\n",
       "      <td>No</td>\n",
       "      <td>1</td>\n",
       "      <td>No</td>\n",
       "      <td>No phone service</td>\n",
       "      <td>DSL</td>\n",
       "      <td>No</td>\n",
       "      <td>No</td>\n",
       "      <td>No</td>\n",
       "      <td>No</td>\n",
       "      <td>No</td>\n",
       "      <td>No</td>\n",
       "      <td>Month-to-month</td>\n",
       "      <td>Yes</td>\n",
       "      <td>Electronic check</td>\n",
       "      <td>24.80</td>\n",
       "      <td>24.80</td>\n",
       "      <td>Yes</td>\n",
       "      <td>Yes</td>\n",
       "    </tr>\n",
       "    <tr>\n",
       "      <th>2715</th>\n",
       "      <td>Male</td>\n",
       "      <td>0</td>\n",
       "      <td>No</td>\n",
       "      <td>No</td>\n",
       "      <td>41</td>\n",
       "      <td>Yes</td>\n",
       "      <td>Yes</td>\n",
       "      <td>No</td>\n",
       "      <td>No internet service</td>\n",
       "      <td>No internet service</td>\n",
       "      <td>No internet service</td>\n",
       "      <td>No internet service</td>\n",
       "      <td>No internet service</td>\n",
       "      <td>No internet service</td>\n",
       "      <td>Month-to-month</td>\n",
       "      <td>Yes</td>\n",
       "      <td>Bank transfer (automatic)</td>\n",
       "      <td>25.25</td>\n",
       "      <td>996.45</td>\n",
       "      <td>No</td>\n",
       "      <td>No</td>\n",
       "    </tr>\n",
       "    <tr>\n",
       "      <th>3825</th>\n",
       "      <td>Female</td>\n",
       "      <td>0</td>\n",
       "      <td>Yes</td>\n",
       "      <td>Yes</td>\n",
       "      <td>52</td>\n",
       "      <td>Yes</td>\n",
       "      <td>No</td>\n",
       "      <td>No</td>\n",
       "      <td>No internet service</td>\n",
       "      <td>No internet service</td>\n",
       "      <td>No internet service</td>\n",
       "      <td>No internet service</td>\n",
       "      <td>No internet service</td>\n",
       "      <td>No internet service</td>\n",
       "      <td>Two year</td>\n",
       "      <td>No</td>\n",
       "      <td>Mailed check</td>\n",
       "      <td>19.35</td>\n",
       "      <td>1031.70</td>\n",
       "      <td>No</td>\n",
       "      <td>No</td>\n",
       "    </tr>\n",
       "    <tr>\n",
       "      <th>1807</th>\n",
       "      <td>Female</td>\n",
       "      <td>0</td>\n",
       "      <td>No</td>\n",
       "      <td>No</td>\n",
       "      <td>1</td>\n",
       "      <td>Yes</td>\n",
       "      <td>No</td>\n",
       "      <td>Fiber optic</td>\n",
       "      <td>No</td>\n",
       "      <td>No</td>\n",
       "      <td>Yes</td>\n",
       "      <td>No</td>\n",
       "      <td>No</td>\n",
       "      <td>No</td>\n",
       "      <td>Month-to-month</td>\n",
       "      <td>No</td>\n",
       "      <td>Electronic check</td>\n",
       "      <td>76.35</td>\n",
       "      <td>76.35</td>\n",
       "      <td>Yes</td>\n",
       "      <td>Yes</td>\n",
       "    </tr>\n",
       "    <tr>\n",
       "      <th>132</th>\n",
       "      <td>Male</td>\n",
       "      <td>0</td>\n",
       "      <td>No</td>\n",
       "      <td>No</td>\n",
       "      <td>67</td>\n",
       "      <td>Yes</td>\n",
       "      <td>No</td>\n",
       "      <td>DSL</td>\n",
       "      <td>No</td>\n",
       "      <td>No</td>\n",
       "      <td>No</td>\n",
       "      <td>Yes</td>\n",
       "      <td>No</td>\n",
       "      <td>No</td>\n",
       "      <td>Two year</td>\n",
       "      <td>No</td>\n",
       "      <td>Bank transfer (automatic)</td>\n",
       "      <td>50.55</td>\n",
       "      <td>3260.10</td>\n",
       "      <td>No</td>\n",
       "      <td>No</td>\n",
       "    </tr>\n",
       "  </tbody>\n",
       "</table>\n",
       "</div>"
      ],
      "text/plain": [
       "      gender senior_citizen partner dependents  tenure phone_service  \\\n",
       "185   Female              0     Yes         No       1            No   \n",
       "2715    Male              0      No         No      41           Yes   \n",
       "3825  Female              0     Yes        Yes      52           Yes   \n",
       "1807  Female              0      No         No       1           Yes   \n",
       "132     Male              0      No         No      67           Yes   \n",
       "\n",
       "        multiple_lines internet_service      online_security  \\\n",
       "185   No phone service              DSL                   No   \n",
       "2715               Yes               No  No internet service   \n",
       "3825                No               No  No internet service   \n",
       "1807                No      Fiber optic                   No   \n",
       "132                 No              DSL                   No   \n",
       "\n",
       "            online_backup    device_protection         tech_support  \\\n",
       "185                    No                   No                   No   \n",
       "2715  No internet service  No internet service  No internet service   \n",
       "3825  No internet service  No internet service  No internet service   \n",
       "1807                   No                  Yes                   No   \n",
       "132                    No                   No                  Yes   \n",
       "\n",
       "             streaming_tv     streaming_movies        contract  \\\n",
       "185                    No                   No  Month-to-month   \n",
       "2715  No internet service  No internet service  Month-to-month   \n",
       "3825  No internet service  No internet service        Two year   \n",
       "1807                   No                   No  Month-to-month   \n",
       "132                    No                   No        Two year   \n",
       "\n",
       "     paperless_billing             payment_method  monthly_charges  \\\n",
       "185                Yes           Electronic check            24.80   \n",
       "2715               Yes  Bank transfer (automatic)            25.25   \n",
       "3825                No               Mailed check            19.35   \n",
       "1807                No           Electronic check            76.35   \n",
       "132                 No  Bank transfer (automatic)            50.55   \n",
       "\n",
       "      total_charges churn churn_predictions  \n",
       "185           24.80   Yes               Yes  \n",
       "2715         996.45    No                No  \n",
       "3825        1031.70    No                No  \n",
       "1807          76.35   Yes               Yes  \n",
       "132         3260.10    No                No  "
      ]
     },
     "metadata": {},
     "output_type": "display_data"
    },
    {
     "data": {
      "text/plain": [
       "(1409, 21)"
      ]
     },
     "metadata": {},
     "output_type": "display_data"
    }
   ],
   "source": [
    "# Get all columns from original dataframe for all rows included in the test set\n",
    "test_data = data.loc[y_test.index]\n",
    "\n",
    "# Add column with predicted values for these rows\n",
    "test_data['churn_predictions'] = y_pred_os\n",
    "display(test_data.head(),test_data.shape)"
   ]
  },
  {
   "cell_type": "code",
   "execution_count": 146,
   "id": "590845fa",
   "metadata": {},
   "outputs": [],
   "source": [
    "# Save clean dataset\n",
    "test_data.to_csv('./Files/test_data_churn.csv')"
   ]
  },
  {
   "cell_type": "code",
   "execution_count": null,
   "id": "d68c18e8",
   "metadata": {},
   "outputs": [],
   "source": []
  }
 ],
 "metadata": {
  "kernelspec": {
   "display_name": "Python 3 (ipykernel)",
   "language": "python",
   "name": "python3"
  },
  "language_info": {
   "codemirror_mode": {
    "name": "ipython",
    "version": 3
   },
   "file_extension": ".py",
   "mimetype": "text/x-python",
   "name": "python",
   "nbconvert_exporter": "python",
   "pygments_lexer": "ipython3",
   "version": "3.9.13"
  }
 },
 "nbformat": 4,
 "nbformat_minor": 5
}
